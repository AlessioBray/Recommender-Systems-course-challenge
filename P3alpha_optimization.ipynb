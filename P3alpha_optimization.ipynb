{
 "cells": [
  {
   "cell_type": "markdown",
   "metadata": {},
   "source": [
    "# RP3beta"
   ]
  },
  {
   "cell_type": "markdown",
   "metadata": {},
   "source": [
    "## Import"
   ]
  },
  {
   "cell_type": "code",
   "execution_count": 1,
   "metadata": {},
   "outputs": [],
   "source": [
    "## Allow more than one output for a single code cell\n",
    "from IPython.core.interactiveshell import InteractiveShell\n",
    "InteractiveShell.ast_node_interactivity = 'all'"
   ]
  },
  {
   "cell_type": "code",
   "execution_count": 2,
   "metadata": {},
   "outputs": [
    {
     "data": {
      "text/plain": [
       "'/home/alessio/Scrivania/RecSysChallenge2021'"
      ]
     },
     "execution_count": 2,
     "metadata": {},
     "output_type": "execute_result"
    }
   ],
   "source": [
    "import pandas as pd\n",
    "import scipy.sparse as sps\n",
    "import numpy as np\n",
    "import os\n",
    "\n",
    "from skopt.space import Real, Integer, Categorical\n",
    "\n",
    "## Set the numpy random seed\n",
    "SEED = 42\n",
    "np.random.seed(SEED)\n",
    "\n",
    "os.getcwd()"
   ]
  },
  {
   "cell_type": "code",
   "execution_count": 3,
   "metadata": {},
   "outputs": [
    {
     "name": "stdout",
     "output_type": "stream",
     "text": [
      "Tensorflow is not available\n"
     ]
    }
   ],
   "source": [
    "from Data_manager.split_functions.split_train_validation_random_holdout import split_train_in_two_percentage_global_sample\n",
    "\n",
    "from Evaluation.Evaluator import EvaluatorHoldout\n",
    "\n",
    "from Recommenders.Recommender_import_list import *\n",
    "\n",
    "from Recommenders.DataIO import DataIO"
   ]
  },
  {
   "cell_type": "code",
   "execution_count": 4,
   "metadata": {},
   "outputs": [],
   "source": [
    "## Utility Functions\n",
    "from Dataset.load_data import load_data\n",
    "from Dataset.write_submission import write_submission\n",
    "from Dataset.load_test_user_array import load_test_user_array"
   ]
  },
  {
   "cell_type": "markdown",
   "metadata": {},
   "source": [
    "## Data Loading and Split"
   ]
  },
  {
   "cell_type": "code",
   "execution_count": 5,
   "metadata": {},
   "outputs": [],
   "source": [
    "URM_all, ICM_dict = load_data()"
   ]
  },
  {
   "cell_type": "code",
   "execution_count": 6,
   "metadata": {},
   "outputs": [
    {
     "name": "stdout",
     "output_type": "stream",
     "text": [
      "Warning: 4 (0.03 %) of 13650 users have no sampled items\n",
      "EvaluatorHoldout: Ignoring 13646 ( 0.0%) Users that have less than 1 test interactions\n"
     ]
    }
   ],
   "source": [
    "URM_train, URM_validation = split_train_in_two_percentage_global_sample(URM_all, train_percentage = 0.80)\n",
    "\n",
    "URM_aug_train = sps.vstack([URM_train.copy().tocoo(), \n",
    "                            #ICM_dict['ICM_genre'].T.tocoo(),\n",
    "                            ICM_dict['ICM_subgenre'].T.tocoo(), \n",
    "                            #ICM_dict['ICM_event'].T.tocoo(), \n",
    "                            ICM_dict['ICM_channel'].T.tocoo()], format='csr')\n",
    "\n",
    "evaluator_validation = EvaluatorHoldout(URM_validation, cutoff_list=[10], exclude_seen = True)"
   ]
  },
  {
   "cell_type": "code",
   "execution_count": 7,
   "metadata": {},
   "outputs": [],
   "source": [
    "test_UserID_array = load_test_user_array()"
   ]
  },
  {
   "cell_type": "markdown",
   "metadata": {},
   "source": [
    "## Optimization"
   ]
  },
  {
   "cell_type": "code",
   "execution_count": 8,
   "metadata": {},
   "outputs": [
    {
     "data": {
      "text/html": [
       "<div>\n",
       "<style scoped>\n",
       "    .dataframe tbody tr th:only-of-type {\n",
       "        vertical-align: middle;\n",
       "    }\n",
       "\n",
       "    .dataframe tbody tr th {\n",
       "        vertical-align: top;\n",
       "    }\n",
       "\n",
       "    .dataframe thead th {\n",
       "        text-align: right;\n",
       "    }\n",
       "</style>\n",
       "<table border=\"1\" class=\"dataframe\">\n",
       "  <thead>\n",
       "    <tr style=\"text-align: right;\">\n",
       "      <th></th>\n",
       "      <th>topK</th>\n",
       "      <th>alpha</th>\n",
       "      <th>normalize_similarity</th>\n",
       "      <th>MAP</th>\n",
       "    </tr>\n",
       "  </thead>\n",
       "  <tbody>\n",
       "    <tr>\n",
       "      <th>28</th>\n",
       "      <td>126</td>\n",
       "      <td>0.765545</td>\n",
       "      <td>False</td>\n",
       "      <td>0.206943</td>\n",
       "    </tr>\n",
       "    <tr>\n",
       "      <th>38</th>\n",
       "      <td>202</td>\n",
       "      <td>0.731517</td>\n",
       "      <td>False</td>\n",
       "      <td>0.201909</td>\n",
       "    </tr>\n",
       "    <tr>\n",
       "      <th>61</th>\n",
       "      <td>85</td>\n",
       "      <td>0.711881</td>\n",
       "      <td>False</td>\n",
       "      <td>0.206780</td>\n",
       "    </tr>\n",
       "    <tr>\n",
       "      <th>96</th>\n",
       "      <td>115</td>\n",
       "      <td>0.740923</td>\n",
       "      <td>False</td>\n",
       "      <td>0.206167</td>\n",
       "    </tr>\n",
       "    <tr>\n",
       "      <th>97</th>\n",
       "      <td>281</td>\n",
       "      <td>0.809203</td>\n",
       "      <td>False</td>\n",
       "      <td>0.202563</td>\n",
       "    </tr>\n",
       "  </tbody>\n",
       "</table>\n",
       "</div>"
      ],
      "text/plain": [
       "   topK     alpha normalize_similarity       MAP\n",
       "28  126  0.765545                False  0.206943\n",
       "38  202  0.731517                False  0.201909\n",
       "61   85  0.711881                False  0.206780\n",
       "96  115  0.740923                False  0.206167\n",
       "97  281  0.809203                False  0.202563"
      ]
     },
     "execution_count": 8,
     "metadata": {},
     "output_type": "execute_result"
    },
    {
     "name": "stdout",
     "output_type": "stream",
     "text": [
      "Max value for the range:  281\n",
      "Min value for the range:  85\n",
      "Best MAP:  0.20694283050559711\n"
     ]
    },
    {
     "data": {
      "text/html": [
       "<div>\n",
       "<style scoped>\n",
       "    .dataframe tbody tr th:only-of-type {\n",
       "        vertical-align: middle;\n",
       "    }\n",
       "\n",
       "    .dataframe tbody tr th {\n",
       "        vertical-align: top;\n",
       "    }\n",
       "\n",
       "    .dataframe thead th {\n",
       "        text-align: right;\n",
       "    }\n",
       "</style>\n",
       "<table border=\"1\" class=\"dataframe\">\n",
       "  <thead>\n",
       "    <tr style=\"text-align: right;\">\n",
       "      <th></th>\n",
       "      <th>topK</th>\n",
       "      <th>alpha</th>\n",
       "      <th>normalize_similarity</th>\n",
       "      <th>MAP</th>\n",
       "    </tr>\n",
       "  </thead>\n",
       "  <tbody>\n",
       "    <tr>\n",
       "      <th>28</th>\n",
       "      <td>126</td>\n",
       "      <td>0.765545</td>\n",
       "      <td>False</td>\n",
       "      <td>0.206943</td>\n",
       "    </tr>\n",
       "  </tbody>\n",
       "</table>\n",
       "</div>"
      ],
      "text/plain": [
       "   topK     alpha normalize_similarity       MAP\n",
       "28  126  0.765545                False  0.206943"
      ]
     },
     "execution_count": 8,
     "metadata": {},
     "output_type": "execute_result"
    }
   ],
   "source": [
    "output_folder_path = \"result_experiments/P3alpha_augmented_subgenre_channel/\"\n",
    "\n",
    "data_loader = DataIO(folder_path = output_folder_path)\n",
    "search_metadata = data_loader.load_data(P3alphaRecommender.RECOMMENDER_NAME + \"_metadata.zip\")\n",
    "\n",
    "#search_metadata.keys()\n",
    "\n",
    "hyperparameters_df = search_metadata[\"hyperparameters_df\"]\n",
    "result_on_validation_df = search_metadata[\"result_on_validation_df\"]\n",
    "\n",
    "hyperparameters_df['MAP'] = result_on_validation_df['MAP'].values.tolist()\n",
    "\n",
    "threshold = 0.20\n",
    "\n",
    "hyperparameters_df[hyperparameters_df['MAP'] > threshold]\n",
    "print('Max value for the range: ', max(hyperparameters_df[hyperparameters_df['MAP'] > threshold].topK))\n",
    "print('Min value for the range: ', min(hyperparameters_df[hyperparameters_df['MAP'] > threshold].topK))\n",
    "print('Best MAP: ', max(hyperparameters_df['MAP']))\n",
    "hyperparameters_df[max(hyperparameters_df['MAP']) == hyperparameters_df['MAP']]"
   ]
  },
  {
   "cell_type": "code",
   "execution_count": 9,
   "metadata": {},
   "outputs": [],
   "source": [
    "output_folder_path = \"result_experiments/P3alpha_augmented_subgenre_channel_improved_range/\" # topK from 50 to 200\n",
    "\n",
    "# If directory does not exist, create\n",
    "if not os.path.exists(output_folder_path):\n",
    "    os.makedirs(output_folder_path)\n",
    "\n",
    "n_cases = 100  # 50 with 30% random is a good number\n",
    "n_random_starts = int(n_cases*0.3)\n",
    "metric_to_optimize = \"MAP\"   \n",
    "cutoff_to_optimize = 10"
   ]
  },
  {
   "cell_type": "code",
   "execution_count": 10,
   "metadata": {},
   "outputs": [
    {
     "name": "stdout",
     "output_type": "stream",
     "text": [
      "SearchBayesianSkopt: Resuming 'P3alphaRecommender' Failed, no such file exists.\n",
      "\n",
      "Iteration No: 1 started. Evaluating function at random point.\n",
      "SearchBayesianSkopt: Testing config: {'topK': 161, 'alpha': 0.5468123789812366, 'normalize_similarity': False}\n",
      "EvaluatorHoldout: Processed 13646 (100.0%) in 15.67 sec. Users per second: 871\n",
      "SearchBayesianSkopt: New best config found. Config 0: {'topK': 161, 'alpha': 0.5468123789812366, 'normalize_similarity': False} - results: PRECISION: 0.3212883, PRECISION_RECALL_MIN_DEN: 0.3224677, RECALL: 0.0537929, MAP: 0.1944519, MAP_MIN_DEN: 0.1950933, MRR: 0.6087300, NDCG: 0.3450743, F1: 0.0921562, HIT_RATE: 0.9388099, ARHR_ALL_HITS: 1.0705606, NOVELTY: 0.0051896, AVERAGE_POPULARITY: 0.7245133, DIVERSITY_MEAN_INTER_LIST: 0.6882865, DIVERSITY_HERFINDAHL: 0.9688236, COVERAGE_ITEM: 0.0213190, COVERAGE_ITEM_CORRECT: 0.0100781, COVERAGE_USER: 0.9997070, COVERAGE_USER_CORRECT: 0.9385348, DIVERSITY_GINI: 0.0017884, SHANNON_ENTROPY: 5.3302468, RATIO_DIVERSITY_HERFINDAHL: 0.9691914, RATIO_DIVERSITY_GINI: 0.0070121, RATIO_SHANNON_ENTROPY: 0.4290239, RATIO_AVERAGE_POPULARITY: 3.6332630, RATIO_NOVELTY: 0.0246834, \n",
      "\n",
      "SearchBayesianSkopt: Saving model in result_experiments/P3alpha_augmented_subgenre_channel_improved_range/P3alphaRecommender\n",
      "\n",
      "P3alphaRecommender: Saving model in file 'result_experiments/P3alpha_augmented_subgenre_channel_improved_range/P3alphaRecommender_best_model'\n",
      "P3alphaRecommender: Saving complete\n",
      "Iteration No: 1 ended. Evaluation done at random point.\n",
      "Time taken: 54.9581\n",
      "Function value obtained: -0.1945\n",
      "Current minimum: -0.1945\n",
      "Iteration No: 2 started. Evaluating function at random point.\n",
      "SearchBayesianSkopt: Testing config: {'topK': 199, 'alpha': 1.2984872408222534, 'normalize_similarity': True}\n",
      "EvaluatorHoldout: Processed 13646 (100.0%) in 18.25 sec. Users per second: 748\n",
      "SearchBayesianSkopt: Config 1 is suboptimal. Config: {'topK': 199, 'alpha': 1.2984872408222534, 'normalize_similarity': True} - results: PRECISION: 0.2399531, PRECISION_RECALL_MIN_DEN: 0.2403575, RECALL: 0.0384944, MAP: 0.1368875, MAP_MIN_DEN: 0.1370899, MRR: 0.5038356, NDCG: 0.2603193, F1: 0.0663453, HIT_RATE: 0.8486003, ARHR_ALL_HITS: 0.8168913, NOVELTY: 0.0066590, AVERAGE_POPULARITY: 0.1712652, DIVERSITY_MEAN_INTER_LIST: 0.9711364, DIVERSITY_HERFINDAHL: 0.9971065, COVERAGE_ITEM: 0.1946398, COVERAGE_ITEM_CORRECT: 0.0740905, COVERAGE_USER: 0.9997070, COVERAGE_USER_CORRECT: 0.8483516, DIVERSITY_GINI: 0.0357467, SHANNON_ENTROPY: 9.5233540, RATIO_DIVERSITY_HERFINDAHL: 0.9974850, RATIO_DIVERSITY_GINI: 0.1401555, RATIO_SHANNON_ENTROPY: 0.7665211, RATIO_AVERAGE_POPULARITY: 0.8588545, RATIO_NOVELTY: 0.0316721, \n",
      "\n",
      "Iteration No: 2 ended. Evaluation done at random point.\n",
      "Time taken: 65.2428\n",
      "Function value obtained: -0.1369\n",
      "Current minimum: -0.1945\n",
      "Iteration No: 3 started. Evaluating function at random point.\n",
      "SearchBayesianSkopt: Testing config: {'topK': 93, 'alpha': 0.6882972130666624, 'normalize_similarity': False}\n",
      "EvaluatorHoldout: Processed 13646 (100.0%) in 10.86 sec. Users per second: 1257\n",
      "SearchBayesianSkopt: New best config found. Config 2: {'topK': 93, 'alpha': 0.6882972130666624, 'normalize_similarity': False} - results: PRECISION: 0.3376227, PRECISION_RECALL_MIN_DEN: 0.3387799, RECALL: 0.0573897, MAP: 0.2054071, MAP_MIN_DEN: 0.2059899, MRR: 0.6173026, NDCG: 0.3595237, F1: 0.0981036, HIT_RATE: 0.9464312, ARHR_ALL_HITS: 1.1079108, NOVELTY: 0.0052131, AVERAGE_POPULARITY: 0.7084525, DIVERSITY_MEAN_INTER_LIST: 0.7384765, DIVERSITY_HERFINDAHL: 0.9738422, COVERAGE_ITEM: 0.0234786, COVERAGE_ITEM_CORRECT: 0.0133451, COVERAGE_USER: 0.9997070, COVERAGE_USER_CORRECT: 0.9461538, DIVERSITY_GINI: 0.0022143, SHANNON_ENTROPY: 5.6775818, RATIO_DIVERSITY_HERFINDAHL: 0.9742119, RATIO_DIVERSITY_GINI: 0.0086817, RATIO_SHANNON_ENTROPY: 0.4569804, RATIO_AVERAGE_POPULARITY: 3.5527222, RATIO_NOVELTY: 0.0247951, \n",
      "\n",
      "SearchBayesianSkopt: Saving model in result_experiments/P3alpha_augmented_subgenre_channel_improved_range/P3alphaRecommender\n",
      "\n",
      "P3alphaRecommender: Saving model in file 'result_experiments/P3alpha_augmented_subgenre_channel_improved_range/P3alphaRecommender_best_model'\n",
      "P3alphaRecommender: Saving complete\n",
      "Iteration No: 3 ended. Evaluation done at random point.\n",
      "Time taken: 44.4724\n",
      "Function value obtained: -0.2054\n",
      "Current minimum: -0.2054\n",
      "Iteration No: 4 started. Evaluating function at random point.\n",
      "SearchBayesianSkopt: Testing config: {'topK': 131, 'alpha': 0.9941409352135382, 'normalize_similarity': True}\n",
      "EvaluatorHoldout: Processed 13646 (100.0%) in 11.10 sec. Users per second: 1229\n",
      "SearchBayesianSkopt: Config 3 is suboptimal. Config: {'topK': 131, 'alpha': 0.9941409352135382, 'normalize_similarity': True} - results: PRECISION: 0.2432434, PRECISION_RECALL_MIN_DEN: 0.2436272, RECALL: 0.0385600, MAP: 0.1393112, MAP_MIN_DEN: 0.1395187, MRR: 0.5093737, NDCG: 0.2641365, F1: 0.0665675, HIT_RATE: 0.8518247, ARHR_ALL_HITS: 0.8291044, NOVELTY: 0.0065764, AVERAGE_POPULARITY: 0.1745906, DIVERSITY_MEAN_INTER_LIST: 0.9688644, DIVERSITY_HERFINDAHL: 0.9968793, COVERAGE_ITEM: 0.1829005, COVERAGE_ITEM_CORRECT: 0.0694944, COVERAGE_USER: 0.9997070, COVERAGE_USER_CORRECT: 0.8515751, DIVERSITY_GINI: 0.0298571, SHANNON_ENTROPY: 9.3116650, RATIO_DIVERSITY_HERFINDAHL: 0.9972578, RATIO_DIVERSITY_GINI: 0.1170635, RATIO_SHANNON_ENTROPY: 0.7494826, RATIO_AVERAGE_POPULARITY: 0.8755305, RATIO_NOVELTY: 0.0312796, \n",
      "\n",
      "Iteration No: 4 ended. Evaluation done at random point.\n",
      "Time taken: 43.0521\n",
      "Function value obtained: -0.1393\n",
      "Current minimum: -0.2054\n",
      "Iteration No: 5 started. Evaluating function at random point.\n",
      "SearchBayesianSkopt: Testing config: {'topK': 82, 'alpha': 0.6885861266741434, 'normalize_similarity': False}\n",
      "EvaluatorHoldout: Processed 13646 (100.0%) in 11.12 sec. Users per second: 1227\n",
      "SearchBayesianSkopt: New best config found. Config 4: {'topK': 82, 'alpha': 0.6885861266741434, 'normalize_similarity': False} - results: PRECISION: 0.3377547, PRECISION_RECALL_MIN_DEN: 0.3389895, RECALL: 0.0575538, MAP: 0.2057612, MAP_MIN_DEN: 0.2063787, MRR: 0.6188608, NDCG: 0.3600691, F1: 0.0983488, HIT_RATE: 0.9484098, ARHR_ALL_HITS: 1.1102861, NOVELTY: 0.0052144, AVERAGE_POPULARITY: 0.7073087, DIVERSITY_MEAN_INTER_LIST: 0.7425089, DIVERSITY_HERFINDAHL: 0.9742454, COVERAGE_ITEM: 0.0228695, COVERAGE_ITEM_CORRECT: 0.0131237, COVERAGE_USER: 0.9997070, COVERAGE_USER_CORRECT: 0.9481319, DIVERSITY_GINI: 0.0022324, SHANNON_ENTROPY: 5.6967999, RATIO_DIVERSITY_HERFINDAHL: 0.9746153, RATIO_DIVERSITY_GINI: 0.0087526, RATIO_SHANNON_ENTROPY: 0.4585273, RATIO_AVERAGE_POPULARITY: 3.5469860, RATIO_NOVELTY: 0.0248012, \n",
      "\n",
      "SearchBayesianSkopt: Saving model in result_experiments/P3alpha_augmented_subgenre_channel_improved_range/P3alphaRecommender\n",
      "\n",
      "P3alphaRecommender: Saving model in file 'result_experiments/P3alpha_augmented_subgenre_channel_improved_range/P3alphaRecommender_best_model'\n",
      "P3alphaRecommender: Saving complete\n",
      "Iteration No: 5 ended. Evaluation done at random point.\n",
      "Time taken: 42.4608\n",
      "Function value obtained: -0.2058\n",
      "Current minimum: -0.2058\n",
      "Iteration No: 6 started. Evaluating function at random point.\n",
      "SearchBayesianSkopt: Testing config: {'topK': 75, 'alpha': 0.33324110934113077, 'normalize_similarity': False}\n",
      "EvaluatorHoldout: Processed 13646 (100.0%) in 10.79 sec. Users per second: 1265\n",
      "SearchBayesianSkopt: Config 5 is suboptimal. Config: {'topK': 75, 'alpha': 0.33324110934113077, 'normalize_similarity': False} - results: PRECISION: 0.3184743, PRECISION_RECALL_MIN_DEN: 0.3196839, RECALL: 0.0532838, MAP: 0.1922085, MAP_MIN_DEN: 0.1928555, MRR: 0.6037556, NDCG: 0.3418882, F1: 0.0912933, HIT_RATE: 0.9352191, ARHR_ALL_HITS: 1.0602490, NOVELTY: 0.0051863, AVERAGE_POPULARITY: 0.7252274, DIVERSITY_MEAN_INTER_LIST: 0.6922348, DIVERSITY_HERFINDAHL: 0.9692184, COVERAGE_ITEM: 0.0184396, COVERAGE_ITEM_CORRECT: 0.0082507, COVERAGE_USER: 0.9997070, COVERAGE_USER_CORRECT: 0.9349451, DIVERSITY_GINI: 0.0017896, SHANNON_ENTROPY: 5.3453791, RATIO_DIVERSITY_HERFINDAHL: 0.9695863, RATIO_DIVERSITY_GINI: 0.0070165, RATIO_SHANNON_ENTROPY: 0.4302419, RATIO_AVERAGE_POPULARITY: 3.6368443, RATIO_NOVELTY: 0.0246675, \n",
      "\n",
      "Iteration No: 6 ended. Evaluation done at random point.\n",
      "Time taken: 41.2257\n",
      "Function value obtained: -0.1922\n",
      "Current minimum: -0.2058\n",
      "Iteration No: 7 started. Evaluating function at random point.\n",
      "SearchBayesianSkopt: Testing config: {'topK': 67, 'alpha': 0.7094576994913274, 'normalize_similarity': True}\n"
     ]
    }
   ],
   "source": [
    "from functools import partial\n",
    "import os, multiprocessing\n",
    "\n",
    "from HyperparameterTuning.run_hyperparameter_search import runHyperparameterSearch_Collaborative\n",
    "\n",
    "runHyperparameterSearch_Collaborative(P3alphaRecommender,\n",
    "                                      URM_train = URM_aug_train,\n",
    "                                      URM_train_last_test = None,\n",
    "                                      metric_to_optimize = metric_to_optimize,\n",
    "                                      cutoff_to_optimize = cutoff_to_optimize,\n",
    "                                      n_cases = n_cases,\n",
    "                                      n_random_starts = n_random_starts,\n",
    "                                      evaluator_validation_earlystopping = evaluator_validation,\n",
    "                                      evaluator_validation = evaluator_validation,\n",
    "                                      evaluator_test = None,\n",
    "                                      output_folder_path = output_folder_path,\n",
    "                                      resume_from_saved = True,\n",
    "                                      similarity_type_list = None,\n",
    "                                      parallelizeKNN = True)"
   ]
  }
 ],
 "metadata": {
  "interpreter": {
   "hash": "d114a2b152114cd168fe4f0212c4eebc9b59960a5ab953eb0e021798ddb13d49"
  },
  "kernelspec": {
   "display_name": "Python 3.8.8 64-bit ('RecSysFramework': conda)",
   "language": "python",
   "name": "python3"
  },
  "language_info": {
   "codemirror_mode": {
    "name": "ipython",
    "version": 3
   },
   "file_extension": ".py",
   "mimetype": "text/x-python",
   "name": "python",
   "nbconvert_exporter": "python",
   "pygments_lexer": "ipython3",
   "version": "3.8.8"
  },
  "orig_nbformat": 4
 },
 "nbformat": 4,
 "nbformat_minor": 2
}
