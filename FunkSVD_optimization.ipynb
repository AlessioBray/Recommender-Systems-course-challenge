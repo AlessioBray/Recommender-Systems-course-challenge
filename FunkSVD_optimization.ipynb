{
 "cells": [
  {
   "cell_type": "markdown",
   "metadata": {},
   "source": [
    "# Funk SVD Cython"
   ]
  },
  {
   "cell_type": "markdown",
   "metadata": {},
   "source": [
    "## Import"
   ]
  },
  {
   "cell_type": "code",
   "execution_count": 1,
   "metadata": {},
   "outputs": [],
   "source": [
    "## Allow more than one output for a single code cell\n",
    "from IPython.core.interactiveshell import InteractiveShell\n",
    "InteractiveShell.ast_node_interactivity = 'all'"
   ]
  },
  {
   "cell_type": "code",
   "execution_count": 2,
   "metadata": {},
   "outputs": [
    {
     "data": {
      "text/plain": [
       "'/home/jupyter/RecSysChallenge2021'"
      ]
     },
     "execution_count": 2,
     "metadata": {},
     "output_type": "execute_result"
    }
   ],
   "source": [
    "import pandas as pd\n",
    "import scipy.sparse as sps\n",
    "import numpy as np\n",
    "import os\n",
    "\n",
    "from skopt.space import Real, Integer, Categorical\n",
    "\n",
    "## Set the numpy random seed\n",
    "SEED = 42\n",
    "np.random.seed(SEED)\n",
    "\n",
    "os.getcwd()"
   ]
  },
  {
   "cell_type": "code",
   "execution_count": 3,
   "metadata": {},
   "outputs": [],
   "source": [
    "from Data_manager.split_functions.split_train_validation_random_holdout import split_train_in_two_percentage_global_sample\n",
    "\n",
    "from Evaluation.Evaluator import EvaluatorHoldout\n",
    "\n",
    "from Recommenders.Recommender_import_list import *\n",
    "\n",
    "from Recommenders.DataIO import DataIO"
   ]
  },
  {
   "cell_type": "code",
   "execution_count": 4,
   "metadata": {},
   "outputs": [],
   "source": [
    "## Utility Functions\n",
    "from Dataset.load_data import load_data\n",
    "from Dataset.write_submission import write_submission\n",
    "from Dataset.load_test_user_array import load_test_user_array"
   ]
  },
  {
   "cell_type": "markdown",
   "metadata": {},
   "source": [
    "## Data Loading and Split"
   ]
  },
  {
   "cell_type": "code",
   "execution_count": 5,
   "metadata": {},
   "outputs": [],
   "source": [
    "URM_all, ICM_dict = load_data()"
   ]
  },
  {
   "cell_type": "code",
   "execution_count": 6,
   "metadata": {},
   "outputs": [
    {
     "name": "stdout",
     "output_type": "stream",
     "text": [
      "Warning: 4 (0.03 %) of 13650 users have no sampled items\n",
      "EvaluatorHoldout: Ignoring 13646 ( 0.0%) Users that have less than 1 test interactions\n"
     ]
    }
   ],
   "source": [
    "URM_train, URM_validation = split_train_in_two_percentage_global_sample(URM_all, train_percentage = 0.80)\n",
    "\n",
    "URM_aug_train = sps.vstack([URM_train.copy().tocoo(), \n",
    "                            #ICM_dict['ICM_genre'].T.tocoo(),\n",
    "                            ICM_dict['ICM_subgenre'].T.tocoo(), \n",
    "                            #ICM_dict['ICM_event'].T.tocoo(), \n",
    "                            ICM_dict['ICM_channel'].T.tocoo()], format='csr')\n",
    "\n",
    "evaluator_validation = EvaluatorHoldout(URM_validation, cutoff_list=[10], exclude_seen = True)"
   ]
  },
  {
   "cell_type": "code",
   "execution_count": 7,
   "metadata": {},
   "outputs": [],
   "source": [
    "test_UserID_array = load_test_user_array()"
   ]
  },
  {
   "cell_type": "markdown",
   "metadata": {},
   "source": [
    "## Optimization"
   ]
  },
  {
   "cell_type": "code",
   "execution_count": 8,
   "metadata": {},
   "outputs": [],
   "source": [
    "output_folder_path = \"result_experiments/Funk_SVD_AUG_subgenre_channel/\"\n",
    "\n",
    "# If directory does not exist, create\n",
    "if not os.path.exists(output_folder_path):\n",
    "    os.makedirs(output_folder_path)\n",
    "\n",
    "n_cases = 50  # 50 with 30% random is a good number\n",
    "n_random_starts = int(n_cases*0.3)\n",
    "metric_to_optimize = \"MAP\"   \n",
    "cutoff_to_optimize = 10"
   ]
  },
  {
   "cell_type": "code",
   "execution_count": null,
   "metadata": {},
   "outputs": [],
   "source": [
    "from functools import partial\n",
    "import os, multiprocessing\n",
    "\n",
    "from HyperparameterTuning.run_hyperparameter_search import runHyperparameterSearch_Collaborative\n",
    "\n",
    "runHyperparameterSearch_Collaborative(MatrixFactorization_FunkSVD_Cython,\n",
    "                                      URM_train = URM_aug_train,\n",
    "                                      URM_train_last_test = None,\n",
    "                                      metric_to_optimize = metric_to_optimize,\n",
    "                                      cutoff_to_optimize = cutoff_to_optimize,\n",
    "                                      n_cases = n_cases,\n",
    "                                      n_random_starts = n_random_starts,\n",
    "                                      evaluator_validation_earlystopping = evaluator_validation,\n",
    "                                      evaluator_validation = evaluator_validation,\n",
    "                                      evaluator_test = None,\n",
    "                                      output_folder_path = output_folder_path,\n",
    "                                      resume_from_saved = True,\n",
    "                                      similarity_type_list = None,\n",
    "                                      parallelizeKNN = True)"
   ]
  }
 ],
 "metadata": {
  "environment": {
   "kernel": "conda-env-RecSysFramework-py",
   "name": "common-cu110.m87",
   "type": "gcloud",
   "uri": "gcr.io/deeplearning-platform-release/base-cu110:m87"
  },
  "interpreter": {
   "hash": "d114a2b152114cd168fe4f0212c4eebc9b59960a5ab953eb0e021798ddb13d49"
  },
  "kernelspec": {
   "display_name": "Python [conda env:RecSysFramework]",
   "language": "python",
   "name": "conda-env-RecSysFramework-py"
  },
  "language_info": {
   "codemirror_mode": {
    "name": "ipython",
    "version": 3
   },
   "file_extension": ".py",
   "mimetype": "text/x-python",
   "name": "python",
   "nbconvert_exporter": "python",
   "pygments_lexer": "ipython3",
   "version": "3.8.12"
  }
 },
 "nbformat": 4,
 "nbformat_minor": 4
}
