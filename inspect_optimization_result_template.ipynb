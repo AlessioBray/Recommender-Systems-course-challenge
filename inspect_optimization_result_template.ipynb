{
 "cells": [
  {
   "cell_type": "code",
   "execution_count": 1,
   "metadata": {},
   "outputs": [],
   "source": [
    "## Allow more than one output for a single code cell\n",
    "from IPython.core.interactiveshell import InteractiveShell\n",
    "InteractiveShell.ast_node_interactivity = 'all'"
   ]
  },
  {
   "cell_type": "code",
   "execution_count": 2,
   "metadata": {},
   "outputs": [
    {
     "name": "stdout",
     "output_type": "stream",
     "text": [
      "Tensorflow is not available\n"
     ]
    }
   ],
   "source": [
    "from Recommenders.DataIO import DataIO\n",
    "from Recommenders.Recommender_import_list import *"
   ]
  },
  {
   "cell_type": "code",
   "execution_count": 5,
   "metadata": {},
   "outputs": [],
   "source": [
    "output_folder_path = \"result_experiments/RP3beta_augmented_subgenre_channel/\""
   ]
  },
  {
   "cell_type": "code",
   "execution_count": 6,
   "metadata": {},
   "outputs": [
    {
     "data": {
      "text/plain": [
       "dict_keys(['time_on_validation_total', 'time_on_test_avg', 'result_on_validation_df', 'time_df', 'hyperparameters_best_index', 'time_on_test_total', 'algorithm_name_recommender', 'result_on_last', 'hyperparameters_df', 'metric_to_optimize', 'time_on_validation_avg', 'cutoff_to_optimize', 'result_on_test_df', 'result_on_test_best', 'time_on_train_avg', 'time_on_train_total', 'algorithm_name_search', 'exception_list', 'time_on_last_df', 'result_on_validation_best', 'hyperparameters_best'])"
      ]
     },
     "execution_count": 6,
     "metadata": {},
     "output_type": "execute_result"
    }
   ],
   "source": [
    "data_loader = DataIO(folder_path = output_folder_path)\n",
    "search_metadata = data_loader.load_data(RP3betaRecommender.RECOMMENDER_NAME + \"_metadata.zip\")\n",
    "\n",
    "search_metadata.keys()"
   ]
  },
  {
   "cell_type": "code",
   "execution_count": null,
   "metadata": {},
   "outputs": [],
   "source": [
    "hyperparameters_df = search_metadata[\"hyperparameters_df\"]\n",
    "result_on_validation_df = search_metadata[\"result_on_validation_df\"]\n",
    "\n",
    "hyperparameters_df['MAP'] = result_on_validation_df['MAP'].values.tolist()\n",
    "\n",
    "threshold = 0.23\n",
    "\n",
    "hyperparameters_df[hyperparameters_df['MAP'] > threshold]\n",
    "print('Max value for the range: ', max(hyperparameters_df[hyperparameters_df['MAP'] > threshold].num_factors))\n",
    "print('Min value for the range: ', min(hyperparameters_df[hyperparameters_df['MAP'] > threshold].num_factors))\n",
    "print('Best MAP: ', max(hyperparameters_df['MAP']))\n",
    "hyperparameters_df[max(hyperparameters_df['MAP']) == hyperparameters_df['MAP']]"
   ]
  }
 ],
 "metadata": {
  "interpreter": {
   "hash": "d114a2b152114cd168fe4f0212c4eebc9b59960a5ab953eb0e021798ddb13d49"
  },
  "kernelspec": {
   "display_name": "Python 3.8.8 64-bit ('RecSysFramework': conda)",
   "language": "python",
   "name": "python3"
  },
  "language_info": {
   "codemirror_mode": {
    "name": "ipython",
    "version": 3
   },
   "file_extension": ".py",
   "mimetype": "text/x-python",
   "name": "python",
   "nbconvert_exporter": "python",
   "pygments_lexer": "ipython3",
   "version": "3.8.8"
  },
  "orig_nbformat": 4
 },
 "nbformat": 4,
 "nbformat_minor": 2
}
